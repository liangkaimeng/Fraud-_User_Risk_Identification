{
 "cells": [
  {
   "cell_type": "markdown",
   "id": "5e728bac",
   "metadata": {},
   "source": [
    "# 导入模块"
   ]
  },
  {
   "cell_type": "code",
   "execution_count": 2,
   "id": "861242f6",
   "metadata": {
    "ExecuteTime": {
     "end_time": "2022-06-29T07:00:00.763995Z",
     "start_time": "2022-06-29T07:00:00.744050Z"
    }
   },
   "outputs": [],
   "source": [
    "import warnings\n",
    "import numpy as np\n",
    "import pandas as pd\n",
    "import seaborn as sns\n",
    "import matplotlib.pyplot as plt\n",
    "from toad.detector import detect\n",
    "from toad.transform import Combiner\n",
    "from toad.metrics import PSI, AUC, KS_bucket\n",
    "from xgboost import XGBClassifier\n",
    "from lightgbm import LGBMClassifier\n",
    "from catboost import CatBoostClassifier\n",
    "from sklearn.linear_model import LogisticRegression\n",
    "from sklearn.svm import SVC\n",
    "from sklearn.neighbors import KNeighborsClassifier\n",
    "from sklearn.tree import DecisionTreeClassifier\n",
    "from sklearn.ensemble import AdaBoostClassifier\n",
    "from sklearn.ensemble import RandomForestClassifier\n",
    "from sklearn.ensemble import ExtraTreesClassifier\n",
    "from sklearn.ensemble import GradientBoostingClassifier\n",
    "from sklearn.metrics import roc_curve, auc\n",
    "from sklearn.ensemble import StackingClassifier\n",
    "from sklearn.ensemble import BaggingClassifier\n",
    "from sklearn.ensemble import VotingClassifier\n",
    "\n",
    "warnings.filterwarnings(\"ignore\")\n",
    "pd.set_option(\"display.width\", 10000)\n",
    "pd.set_option(\"display.max_rows\", None)\n",
    "pd.set_option(\"display.max_columns\", None)\n",
    "%matplotlib inline"
   ]
  },
  {
   "cell_type": "markdown",
   "id": "6c4151f6",
   "metadata": {},
   "source": [
    "# 加载数据"
   ]
  },
  {
   "cell_type": "code",
   "execution_count": 17,
   "id": "1571bba9",
   "metadata": {
    "ExecuteTime": {
     "end_time": "2022-06-29T07:16:42.474112Z",
     "start_time": "2022-06-29T07:16:40.581389Z"
    }
   },
   "outputs": [],
   "source": [
    "data = np.load(\"../data/phase1_gdata.npz\")\n",
    "features = pd.DataFrame(data[\"x\"], columns=['x{}'.format(i) for i in range(1, 18)])\n",
    "features[\"y\"] = data['y']"
   ]
  },
  {
   "cell_type": "markdown",
   "id": "299c3ffa",
   "metadata": {},
   "source": [
    "# 数据预处理"
   ]
  },
  {
   "cell_type": "markdown",
   "id": "a31338cd",
   "metadata": {},
   "source": [
    "## 提取训练集与测试集"
   ]
  },
  {
   "cell_type": "code",
   "execution_count": 35,
   "id": "70785cc6",
   "metadata": {
    "ExecuteTime": {
     "end_time": "2022-06-29T08:32:00.836334Z",
     "start_time": "2022-06-29T08:32:00.432313Z"
    }
   },
   "outputs": [],
   "source": [
    "colnames = ['mask', 'y', 'x1', 'x2', 'x3', 'x4', 'x5', 'x6', 'x7', 'x8', 'x9', 'x10', 'x11', 'x12', 'x13', 'x14', 'x15', 'x16', 'x17']\n",
    "\n",
    "train = features[features[\"y\"].isin([0, 1])]\n",
    "train['mask'] = data['train_mask']\n",
    "train = train[colnames]\n",
    "train.index = range(len(train))\n",
    "\n",
    "test = features[features[\"y\"].isin([-100])]\n",
    "test['mask'] = data['test_mask']\n",
    "test = test[colnames]\n",
    "test.index = range(len(test))"
   ]
  },
  {
   "cell_type": "markdown",
   "id": "16590b60",
   "metadata": {},
   "source": [
    "## 查看数据"
   ]
  },
  {
   "cell_type": "markdown",
   "id": "540db70e",
   "metadata": {},
   "source": [
    "### 训练集"
   ]
  },
  {
   "cell_type": "code",
   "execution_count": 36,
   "id": "d07894be",
   "metadata": {
    "ExecuteTime": {
     "end_time": "2022-06-29T08:32:01.868672Z",
     "start_time": "2022-06-29T08:32:01.823788Z"
    }
   },
   "outputs": [
    {
     "data": {
      "text/html": [
       "<div>\n",
       "<style scoped>\n",
       "    .dataframe tbody tr th:only-of-type {\n",
       "        vertical-align: middle;\n",
       "    }\n",
       "\n",
       "    .dataframe tbody tr th {\n",
       "        vertical-align: top;\n",
       "    }\n",
       "\n",
       "    .dataframe thead th {\n",
       "        text-align: right;\n",
       "    }\n",
       "</style>\n",
       "<table border=\"1\" class=\"dataframe\">\n",
       "  <thead>\n",
       "    <tr style=\"text-align: right;\">\n",
       "      <th></th>\n",
       "      <th>mask</th>\n",
       "      <th>y</th>\n",
       "      <th>x1</th>\n",
       "      <th>x2</th>\n",
       "      <th>x3</th>\n",
       "      <th>x4</th>\n",
       "      <th>x5</th>\n",
       "      <th>x6</th>\n",
       "      <th>x7</th>\n",
       "      <th>x8</th>\n",
       "      <th>x9</th>\n",
       "      <th>x10</th>\n",
       "      <th>x11</th>\n",
       "      <th>x12</th>\n",
       "      <th>x13</th>\n",
       "      <th>x14</th>\n",
       "      <th>x15</th>\n",
       "      <th>x16</th>\n",
       "      <th>x17</th>\n",
       "    </tr>\n",
       "  </thead>\n",
       "  <tbody>\n",
       "    <tr>\n",
       "      <th>0</th>\n",
       "      <td>452420</td>\n",
       "      <td>0</td>\n",
       "      <td>0.0</td>\n",
       "      <td>2.0</td>\n",
       "      <td>0.680</td>\n",
       "      <td>0.505</td>\n",
       "      <td>0.742647</td>\n",
       "      <td>0.7</td>\n",
       "      <td>0.319</td>\n",
       "      <td>0.015</td>\n",
       "      <td>0.281</td>\n",
       "      <td>0.880878</td>\n",
       "      <td>1.0</td>\n",
       "      <td>0.257353</td>\n",
       "      <td>0.119122</td>\n",
       "      <td>0.069307</td>\n",
       "      <td>0.857143</td>\n",
       "      <td>0.007353</td>\n",
       "      <td>0.142857</td>\n",
       "    </tr>\n",
       "    <tr>\n",
       "      <th>1</th>\n",
       "      <td>1935260</td>\n",
       "      <td>0</td>\n",
       "      <td>0.0</td>\n",
       "      <td>2.0</td>\n",
       "      <td>0.550</td>\n",
       "      <td>0.485</td>\n",
       "      <td>0.881818</td>\n",
       "      <td>0.5</td>\n",
       "      <td>0.326</td>\n",
       "      <td>0.045</td>\n",
       "      <td>0.313</td>\n",
       "      <td>0.960123</td>\n",
       "      <td>0.0</td>\n",
       "      <td>0.118182</td>\n",
       "      <td>0.039877</td>\n",
       "      <td>0.051546</td>\n",
       "      <td>0.600000</td>\n",
       "      <td>-1.000000</td>\n",
       "      <td>-1.000000</td>\n",
       "    </tr>\n",
       "    <tr>\n",
       "      <th>2</th>\n",
       "      <td>1210972</td>\n",
       "      <td>0</td>\n",
       "      <td>0.0</td>\n",
       "      <td>2.0</td>\n",
       "      <td>0.055</td>\n",
       "      <td>0.055</td>\n",
       "      <td>1.000000</td>\n",
       "      <td>-1.0</td>\n",
       "      <td>0.076</td>\n",
       "      <td>-1.000</td>\n",
       "      <td>0.076</td>\n",
       "      <td>1.000000</td>\n",
       "      <td>0.0</td>\n",
       "      <td>-1.000000</td>\n",
       "      <td>-1.000000</td>\n",
       "      <td>-1.000000</td>\n",
       "      <td>-1.000000</td>\n",
       "      <td>-1.000000</td>\n",
       "      <td>-1.000000</td>\n",
       "    </tr>\n",
       "    <tr>\n",
       "      <th>3</th>\n",
       "      <td>2719604</td>\n",
       "      <td>0</td>\n",
       "      <td>0.0</td>\n",
       "      <td>0.0</td>\n",
       "      <td>2.835</td>\n",
       "      <td>2.530</td>\n",
       "      <td>0.892416</td>\n",
       "      <td>1.7</td>\n",
       "      <td>4.316</td>\n",
       "      <td>0.108</td>\n",
       "      <td>4.234</td>\n",
       "      <td>0.981001</td>\n",
       "      <td>2.0</td>\n",
       "      <td>0.107584</td>\n",
       "      <td>0.018999</td>\n",
       "      <td>0.033597</td>\n",
       "      <td>0.764706</td>\n",
       "      <td>0.003527</td>\n",
       "      <td>0.117647</td>\n",
       "    </tr>\n",
       "    <tr>\n",
       "      <th>4</th>\n",
       "      <td>1162821</td>\n",
       "      <td>0</td>\n",
       "      <td>0.0</td>\n",
       "      <td>3.0</td>\n",
       "      <td>-1.000</td>\n",
       "      <td>-1.000</td>\n",
       "      <td>-1.000000</td>\n",
       "      <td>-1.0</td>\n",
       "      <td>-1.000</td>\n",
       "      <td>-1.000</td>\n",
       "      <td>-1.000</td>\n",
       "      <td>-1.000000</td>\n",
       "      <td>0.0</td>\n",
       "      <td>-1.000000</td>\n",
       "      <td>-1.000000</td>\n",
       "      <td>-1.000000</td>\n",
       "      <td>-1.000000</td>\n",
       "      <td>-1.000000</td>\n",
       "      <td>-1.000000</td>\n",
       "    </tr>\n",
       "  </tbody>\n",
       "</table>\n",
       "</div>"
      ],
      "text/plain": [
       "      mask  y   x1   x2     x3     x4        x5   x6     x7     x8     x9       x10  x11       x12       x13       x14       x15       x16       x17\n",
       "0   452420  0  0.0  2.0  0.680  0.505  0.742647  0.7  0.319  0.015  0.281  0.880878  1.0  0.257353  0.119122  0.069307  0.857143  0.007353  0.142857\n",
       "1  1935260  0  0.0  2.0  0.550  0.485  0.881818  0.5  0.326  0.045  0.313  0.960123  0.0  0.118182  0.039877  0.051546  0.600000 -1.000000 -1.000000\n",
       "2  1210972  0  0.0  2.0  0.055  0.055  1.000000 -1.0  0.076 -1.000  0.076  1.000000  0.0 -1.000000 -1.000000 -1.000000 -1.000000 -1.000000 -1.000000\n",
       "3  2719604  0  0.0  0.0  2.835  2.530  0.892416  1.7  4.316  0.108  4.234  0.981001  2.0  0.107584  0.018999  0.033597  0.764706  0.003527  0.117647\n",
       "4  1162821  0  0.0  3.0 -1.000 -1.000 -1.000000 -1.0 -1.000 -1.000 -1.000 -1.000000  0.0 -1.000000 -1.000000 -1.000000 -1.000000 -1.000000 -1.000000"
      ]
     },
     "execution_count": 36,
     "metadata": {},
     "output_type": "execute_result"
    }
   ],
   "source": [
    "train.head()"
   ]
  },
  {
   "cell_type": "markdown",
   "id": "69a9204a",
   "metadata": {},
   "source": [
    "### 测试集"
   ]
  },
  {
   "cell_type": "code",
   "execution_count": 37,
   "id": "20564ff8",
   "metadata": {
    "ExecuteTime": {
     "end_time": "2022-06-29T08:32:55.869719Z",
     "start_time": "2022-06-29T08:32:55.827826Z"
    }
   },
   "outputs": [
    {
     "data": {
      "text/html": [
       "<div>\n",
       "<style scoped>\n",
       "    .dataframe tbody tr th:only-of-type {\n",
       "        vertical-align: middle;\n",
       "    }\n",
       "\n",
       "    .dataframe tbody tr th {\n",
       "        vertical-align: top;\n",
       "    }\n",
       "\n",
       "    .dataframe thead th {\n",
       "        text-align: right;\n",
       "    }\n",
       "</style>\n",
       "<table border=\"1\" class=\"dataframe\">\n",
       "  <thead>\n",
       "    <tr style=\"text-align: right;\">\n",
       "      <th></th>\n",
       "      <th>mask</th>\n",
       "      <th>y</th>\n",
       "      <th>x1</th>\n",
       "      <th>x2</th>\n",
       "      <th>x3</th>\n",
       "      <th>x4</th>\n",
       "      <th>x5</th>\n",
       "      <th>x6</th>\n",
       "      <th>x7</th>\n",
       "      <th>x8</th>\n",
       "      <th>x9</th>\n",
       "      <th>x10</th>\n",
       "      <th>x11</th>\n",
       "      <th>x12</th>\n",
       "      <th>x13</th>\n",
       "      <th>x14</th>\n",
       "      <th>x15</th>\n",
       "      <th>x16</th>\n",
       "      <th>x17</th>\n",
       "    </tr>\n",
       "  </thead>\n",
       "  <tbody>\n",
       "    <tr>\n",
       "      <th>0</th>\n",
       "      <td>3804756</td>\n",
       "      <td>-100</td>\n",
       "      <td>0.0</td>\n",
       "      <td>1.0</td>\n",
       "      <td>-1.00</td>\n",
       "      <td>-1.00</td>\n",
       "      <td>-1.000000</td>\n",
       "      <td>-1.0</td>\n",
       "      <td>-1.000</td>\n",
       "      <td>-1.00</td>\n",
       "      <td>-1.000</td>\n",
       "      <td>-1.000000</td>\n",
       "      <td>0.0</td>\n",
       "      <td>-1.000000</td>\n",
       "      <td>-1.000000</td>\n",
       "      <td>-1.000000</td>\n",
       "      <td>-1.000000</td>\n",
       "      <td>-1.000000</td>\n",
       "      <td>-1.000000</td>\n",
       "    </tr>\n",
       "    <tr>\n",
       "      <th>1</th>\n",
       "      <td>690432</td>\n",
       "      <td>-100</td>\n",
       "      <td>0.0</td>\n",
       "      <td>3.0</td>\n",
       "      <td>3.16</td>\n",
       "      <td>3.02</td>\n",
       "      <td>0.955696</td>\n",
       "      <td>1.9</td>\n",
       "      <td>2.713</td>\n",
       "      <td>0.09</td>\n",
       "      <td>2.674</td>\n",
       "      <td>0.985625</td>\n",
       "      <td>2.0</td>\n",
       "      <td>0.044304</td>\n",
       "      <td>0.014375</td>\n",
       "      <td>0.031457</td>\n",
       "      <td>0.789474</td>\n",
       "      <td>0.003165</td>\n",
       "      <td>0.105263</td>\n",
       "    </tr>\n",
       "    <tr>\n",
       "      <th>2</th>\n",
       "      <td>1250623</td>\n",
       "      <td>-100</td>\n",
       "      <td>0.0</td>\n",
       "      <td>3.0</td>\n",
       "      <td>-1.00</td>\n",
       "      <td>-1.00</td>\n",
       "      <td>-1.000000</td>\n",
       "      <td>-1.0</td>\n",
       "      <td>-1.000</td>\n",
       "      <td>-1.00</td>\n",
       "      <td>-1.000</td>\n",
       "      <td>-1.000000</td>\n",
       "      <td>0.0</td>\n",
       "      <td>-1.000000</td>\n",
       "      <td>-1.000000</td>\n",
       "      <td>-1.000000</td>\n",
       "      <td>-1.000000</td>\n",
       "      <td>-1.000000</td>\n",
       "      <td>-1.000000</td>\n",
       "    </tr>\n",
       "    <tr>\n",
       "      <th>3</th>\n",
       "      <td>3555130</td>\n",
       "      <td>-100</td>\n",
       "      <td>0.0</td>\n",
       "      <td>3.0</td>\n",
       "      <td>-1.00</td>\n",
       "      <td>-1.00</td>\n",
       "      <td>-1.000000</td>\n",
       "      <td>-1.0</td>\n",
       "      <td>-1.000</td>\n",
       "      <td>-1.00</td>\n",
       "      <td>-1.000</td>\n",
       "      <td>-1.000000</td>\n",
       "      <td>0.0</td>\n",
       "      <td>-1.000000</td>\n",
       "      <td>-1.000000</td>\n",
       "      <td>-1.000000</td>\n",
       "      <td>-1.000000</td>\n",
       "      <td>-1.000000</td>\n",
       "      <td>-1.000000</td>\n",
       "    </tr>\n",
       "    <tr>\n",
       "      <th>4</th>\n",
       "      <td>1228284</td>\n",
       "      <td>-100</td>\n",
       "      <td>1.0</td>\n",
       "      <td>3.0</td>\n",
       "      <td>-1.00</td>\n",
       "      <td>-1.00</td>\n",
       "      <td>-1.000000</td>\n",
       "      <td>-1.0</td>\n",
       "      <td>-1.000</td>\n",
       "      <td>-1.00</td>\n",
       "      <td>-1.000</td>\n",
       "      <td>-1.000000</td>\n",
       "      <td>0.0</td>\n",
       "      <td>-1.000000</td>\n",
       "      <td>-1.000000</td>\n",
       "      <td>-1.000000</td>\n",
       "      <td>-1.000000</td>\n",
       "      <td>-1.000000</td>\n",
       "      <td>-1.000000</td>\n",
       "    </tr>\n",
       "  </tbody>\n",
       "</table>\n",
       "</div>"
      ],
      "text/plain": [
       "      mask    y   x1   x2    x3    x4        x5   x6     x7    x8     x9       x10  x11       x12       x13       x14       x15       x16       x17\n",
       "0  3804756 -100  0.0  1.0 -1.00 -1.00 -1.000000 -1.0 -1.000 -1.00 -1.000 -1.000000  0.0 -1.000000 -1.000000 -1.000000 -1.000000 -1.000000 -1.000000\n",
       "1   690432 -100  0.0  3.0  3.16  3.02  0.955696  1.9  2.713  0.09  2.674  0.985625  2.0  0.044304  0.014375  0.031457  0.789474  0.003165  0.105263\n",
       "2  1250623 -100  0.0  3.0 -1.00 -1.00 -1.000000 -1.0 -1.000 -1.00 -1.000 -1.000000  0.0 -1.000000 -1.000000 -1.000000 -1.000000 -1.000000 -1.000000\n",
       "3  3555130 -100  0.0  3.0 -1.00 -1.00 -1.000000 -1.0 -1.000 -1.00 -1.000 -1.000000  0.0 -1.000000 -1.000000 -1.000000 -1.000000 -1.000000 -1.000000\n",
       "4  1228284 -100  1.0  3.0 -1.00 -1.00 -1.000000 -1.0 -1.000 -1.00 -1.000 -1.000000  0.0 -1.000000 -1.000000 -1.000000 -1.000000 -1.000000 -1.000000"
      ]
     },
     "execution_count": 37,
     "metadata": {},
     "output_type": "execute_result"
    }
   ],
   "source": [
    "test.head()"
   ]
  },
  {
   "cell_type": "markdown",
   "id": "25ef60d4",
   "metadata": {},
   "source": [
    "## 基本属性"
   ]
  },
  {
   "cell_type": "code",
   "execution_count": null,
   "id": "64cf4aea",
   "metadata": {},
   "outputs": [],
   "source": []
  },
  {
   "cell_type": "code",
   "execution_count": null,
   "id": "b7cab0c7",
   "metadata": {},
   "outputs": [],
   "source": []
  },
  {
   "cell_type": "markdown",
   "id": "cd9470d8",
   "metadata": {},
   "source": [
    "# 特征工程"
   ]
  },
  {
   "cell_type": "code",
   "execution_count": null,
   "id": "0b145389",
   "metadata": {},
   "outputs": [],
   "source": []
  }
 ],
 "metadata": {
  "kernelspec": {
   "display_name": "Python 3",
   "language": "python",
   "name": "python3"
  },
  "language_info": {
   "codemirror_mode": {
    "name": "ipython",
    "version": 3
   },
   "file_extension": ".py",
   "mimetype": "text/x-python",
   "name": "python",
   "nbconvert_exporter": "python",
   "pygments_lexer": "ipython3",
   "version": "3.7.0"
  },
  "latex_envs": {
   "LaTeX_envs_menu_present": true,
   "autoclose": false,
   "autocomplete": true,
   "bibliofile": "biblio.bib",
   "cite_by": "apalike",
   "current_citInitial": 1,
   "eqLabelWithNumbers": true,
   "eqNumInitial": 1,
   "hotkeys": {
    "equation": "Ctrl-E",
    "itemize": "Ctrl-I"
   },
   "labels_anchors": false,
   "latex_user_defs": false,
   "report_style_numbering": false,
   "user_envs_cfg": false
  },
  "toc": {
   "base_numbering": 1,
   "nav_menu": {},
   "number_sections": true,
   "sideBar": true,
   "skip_h1_title": false,
   "title_cell": "Table of Contents",
   "title_sidebar": "Contents",
   "toc_cell": false,
   "toc_position": {},
   "toc_section_display": true,
   "toc_window_display": true
  }
 },
 "nbformat": 4,
 "nbformat_minor": 5
}
